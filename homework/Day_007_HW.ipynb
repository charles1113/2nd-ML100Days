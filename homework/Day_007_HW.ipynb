{
 "cells": [
  {
   "cell_type": "code",
   "execution_count": 6,
   "metadata": {},
   "outputs": [],
   "source": [
    "import pandas as pd\n",
    "import numpy as np\n",
    "import matplotlib.pyplot as plt\n"
   ]
  },
  {
   "cell_type": "code",
   "execution_count": 2,
   "metadata": {},
   "outputs": [],
   "source": [
    "data=pd.read_csv('/Users/charles/Desktop/application_train.csv')"
   ]
  },
  {
   "cell_type": "code",
   "execution_count": 3,
   "metadata": {},
   "outputs": [
    {
     "data": {
      "text/plain": [
       "count    307499.000000\n",
       "mean      27108.573909\n",
       "std       14493.737315\n",
       "min        1615.500000\n",
       "25%       16524.000000\n",
       "50%       24903.000000\n",
       "75%       34596.000000\n",
       "max      258025.500000\n",
       "Name: AMT_ANNUITY, dtype: float64"
      ]
     },
     "execution_count": 3,
     "metadata": {},
     "output_type": "execute_result"
    }
   ],
   "source": [
    "data['AMT_ANNUITY'].describe()"
   ]
  },
  {
   "cell_type": "code",
   "execution_count": 4,
   "metadata": {},
   "outputs": [
    {
     "name": "stdout",
     "output_type": "stream",
     "text": [
      "[1615.5, 16524.0, 24903.0, 34596.0, 258025.5]\n"
     ]
    }
   ],
   "source": [
    "# Ignore NA, 計算五值\n",
    "five_num = [0, 25, 50, 75, 100]\n",
    "quantile_5s = [np.percentile(data[~data['AMT_ANNUITY'].isnull()]['AMT_ANNUITY'], q = i) for i in five_num]\n",
    "print(quantile_5s)"
   ]
  },
  {
   "cell_type": "code",
   "execution_count": 7,
   "metadata": {},
   "outputs": [
    {
     "data": {
      "image/png": "[encoded data removed]",
      "text/plain": [
       "<Figure size 432x288 with 1 Axes>"
      ]
     },
     "metadata": {
      "needs_background": "light"
     },
     "output_type": "display_data"
    }
   ],
   "source": [
    "data[~data['AMT_ANNUITY'].isnull()]['AMT_ANNUITY'].hist(bins = 100)\n",
    "plt.show()"
   ]
  },
  {
   "cell_type": "markdown",
   "metadata": {},
   "source": [
    "# Homework"
   ]
  },
  {
   "cell_type": "markdown",
   "metadata": {},
   "source": [
    "1. 列出 AMT_ANNUITY 的 q0 - q100"
   ]
  },
  {
   "cell_type": "code",
   "execution_count": 9,
   "metadata": {},
   "outputs": [],
   "source": [
    "ranges=list(range(0,101))"
   ]
  },
  {
   "cell_type": "code",
   "execution_count": 11,
   "metadata": {},
   "outputs": [
    {
     "name": "stdout",
     "output_type": "stream",
     "text": [
      "[1615.5, 6182.910000000001, 6750.0, 7875.0, 8703.0, 9000.0, 9000.0, 9553.5, 10125.0, 10503.0, 11074.5, 11430.0, 11970.0, 12375.0, 12838.5, 13302.0, 13500.0, 13500.0, 13896.0, 14350.5, 14701.5, 15124.5, 15583.5, 15970.5, 16209.0, 16524.0, 16852.5, 17109.0, 17487.0, 17806.5, 18189.0, 18643.5, 19102.5, 19417.5, 19836.0, 20151.0, 20421.0, 20853.0, 21186.0, 21609.0, 21865.5, 22018.5, 22342.5, 22527.0, 22972.5, 23346.0, 23719.5, 23931.0, 24259.5, 24583.589999999953, 24903.0, 25240.5, 25537.5, 25960.5, 26217.0, 26316.0, 26640.0, 26860.5, 27189.0, 27558.0, 28062.0, 28480.5, 28917.0, 29340.0, 29830.5, 30078.0, 30483.0, 30897.0, 31275.0, 31630.5, 32004.0, 32458.5, 32895.0, 33376.5, 33984.0, 34596.0, 35345.16000000005, 35806.5, 36328.5, 36747.0, 37516.5, 37948.5, 38556.0, 39456.0, 40135.5, 40806.0, 41845.5, 42790.5, 43735.5, 44991.0, 45954.0, 47254.5, 48465.0, 49878.0, 51745.5, 53325.0, 55624.5, 58482.0, 62964.0, 70006.5, 258025.5]\n"
     ]
    }
   ],
   "source": [
    "#five_num = [0, 25, 50, 75, 100]\n",
    "quantile_5s = [np.percentile(data[~data['AMT_ANNUITY'].isnull()]['AMT_ANNUITY'], q = i) for i in ranges]\n",
    "print(quantile_5s)"
   ]
  },
  {
   "cell_type": "markdown",
   "metadata": {},
   "source": [
    "2.1 將 AMT_ANNUITY 中的 NAs 暫時以中位數填補"
   ]
  },
  {
   "cell_type": "code",
   "execution_count": 29,
   "metadata": {},
   "outputs": [],
   "source": [
    "data['AMT_ANNUITY'].fillna(data['AMT_ANNUITY'].median(),inplace=True)"
   ]
  },
  {
   "cell_type": "code",
   "execution_count": 30,
   "metadata": {},
   "outputs": [
    {
     "data": {
      "text/plain": [
       "Series([], Name: AMT_ANNUITY, dtype: float64)"
      ]
     },
     "execution_count": 30,
     "metadata": {},
     "output_type": "execute_result"
    }
   ],
   "source": [
    "data['AMT_ANNUITY'][data['AMT_ANNUITY'].isnull()==True]"
   ]
  },
  {
   "cell_type": "code",
   "execution_count": 31,
   "metadata": {
    "collapsed": true
   },
   "outputs": [
    {
     "name": "stdout",
     "output_type": "stream",
     "text": [
      "SK_ID_CURR                         0\n",
      "TARGET                             0\n",
      "NAME_CONTRACT_TYPE                 0\n",
      "CODE_GENDER                        0\n",
      "FLAG_OWN_CAR                       0\n",
      "FLAG_OWN_REALTY                    0\n",
      "CNT_CHILDREN                       0\n",
      "AMT_INCOME_TOTAL                   0\n",
      "AMT_CREDIT                         0\n",
      "AMT_ANNUITY                        0\n",
      "AMT_GOODS_PRICE                  278\n",
      "NAME_TYPE_SUITE                 1292\n",
      "NAME_INCOME_TYPE                   0\n",
      "NAME_EDUCATION_TYPE                0\n",
      "NAME_FAMILY_STATUS                 0\n",
      "NAME_HOUSING_TYPE                  0\n",
      "REGION_POPULATION_RELATIVE         0\n",
      "DAYS_BIRTH                         0\n",
      "DAYS_EMPLOYED                      0\n",
      "DAYS_REGISTRATION                  0\n",
      "DAYS_ID_PUBLISH                    0\n",
      "OWN_CAR_AGE                   202929\n",
      "FLAG_MOBIL                         0\n",
      "FLAG_EMP_PHONE                     0\n",
      "FLAG_WORK_PHONE                    0\n",
      "FLAG_CONT_MOBILE                   0\n",
      "FLAG_PHONE                         0\n",
      "FLAG_EMAIL                         0\n",
      "OCCUPATION_TYPE                96391\n",
      "CNT_FAM_MEMBERS                    2\n",
      "                               ...  \n",
      "DEF_30_CNT_SOCIAL_CIRCLE        1021\n",
      "OBS_60_CNT_SOCIAL_CIRCLE        1021\n",
      "DEF_60_CNT_SOCIAL_CIRCLE        1021\n",
      "DAYS_LAST_PHONE_CHANGE             1\n",
      "FLAG_DOCUMENT_2                    0\n",
      "FLAG_DOCUMENT_3                    0\n",
      "FLAG_DOCUMENT_4                    0\n",
      "FLAG_DOCUMENT_5                    0\n",
      "FLAG_DOCUMENT_6                    0\n",
      "FLAG_DOCUMENT_7                    0\n",
      "FLAG_DOCUMENT_8                    0\n",
      "FLAG_DOCUMENT_9                    0\n",
      "FLAG_DOCUMENT_10                   0\n",
      "FLAG_DOCUMENT_11                   0\n",
      "FLAG_DOCUMENT_12                   0\n",
      "FLAG_DOCUMENT_13                   0\n",
      "FLAG_DOCUMENT_14                   0\n",
      "FLAG_DOCUMENT_15                   0\n",
      "FLAG_DOCUMENT_16                   0\n",
      "FLAG_DOCUMENT_17                   0\n",
      "FLAG_DOCUMENT_18                   0\n",
      "FLAG_DOCUMENT_19                   0\n",
      "FLAG_DOCUMENT_20                   0\n",
      "FLAG_DOCUMENT_21                   0\n",
      "AMT_REQ_CREDIT_BUREAU_HOUR     41519\n",
      "AMT_REQ_CREDIT_BUREAU_DAY      41519\n",
      "AMT_REQ_CREDIT_BUREAU_WEEK     41519\n",
      "AMT_REQ_CREDIT_BUREAU_MON      41519\n",
      "AMT_REQ_CREDIT_BUREAU_QRT      41519\n",
      "AMT_REQ_CREDIT_BUREAU_YEAR     41519\n",
      "Length: 122, dtype: int64\n"
     ]
    }
   ],
   "source": [
    "print(data.isnull().sum())"
   ]
  },
  {
   "cell_type": "markdown",
   "metadata": {},
   "source": [
    "2.2 將 AMT_ANNUITY 的數值標準化至 -1 ~ 1 間"
   ]
  },
  {
   "cell_type": "code",
   "execution_count": 36,
   "metadata": {
    "collapsed": true
   },
   "outputs": [
    {
     "data": {
      "text/plain": [
       "0         24700.5\n",
       "1         35698.5\n",
       "2          6750.0\n",
       "3         29686.5\n",
       "4         21865.5\n",
       "5         27517.5\n",
       "6         41301.0\n",
       "7         42075.0\n",
       "8         33826.5\n",
       "9         20250.0\n",
       "10        21177.0\n",
       "11        10678.5\n",
       "12         5881.5\n",
       "13        28966.5\n",
       "14        32778.0\n",
       "15        20160.0\n",
       "16        26149.5\n",
       "17        13500.0\n",
       "18         7875.0\n",
       "19        17563.5\n",
       "20        21375.0\n",
       "21        37561.5\n",
       "22        32521.5\n",
       "23        23850.0\n",
       "24        12703.5\n",
       "25        11074.5\n",
       "26        27076.5\n",
       "27        23827.5\n",
       "28        57676.5\n",
       "29         9000.0\n",
       "           ...   \n",
       "307481    19975.5\n",
       "307482    34969.5\n",
       "307483    16479.0\n",
       "307484    35617.5\n",
       "307485     9000.0\n",
       "307486    18283.5\n",
       "307487    31473.0\n",
       "307488    13351.5\n",
       "307489    23089.5\n",
       "307490     9148.5\n",
       "307491    31522.5\n",
       "307492    43443.0\n",
       "307493    37678.5\n",
       "307494    46858.5\n",
       "307495    23773.5\n",
       "307496    16875.0\n",
       "307497    12028.5\n",
       "307498    52168.5\n",
       "307499    12694.5\n",
       "307500    35982.0\n",
       "307501    11871.0\n",
       "307502    10620.0\n",
       "307503    17770.5\n",
       "307504    16096.5\n",
       "307505    22050.0\n",
       "307506    27558.0\n",
       "307507    12001.5\n",
       "307508    29979.0\n",
       "307509    20205.0\n",
       "307510    49117.5\n",
       "Name: AMT_ANNUITY, Length: 307511, dtype: float64"
      ]
     },
     "execution_count": 36,
     "metadata": {},
     "output_type": "execute_result"
    }
   ],
   "source": [
    "data['AMT_ANNUITY']"
   ]
  },
  {
   "cell_type": "code",
   "execution_count": 47,
   "metadata": {},
   "outputs": [
    {
     "data": {
      "text/plain": [
       "array([[0.09572891],\n",
       "       [0.1383526 ],\n",
       "       [0.02616021],\n",
       "       ...,\n",
       "       [0.11618619],\n",
       "       [0.07830621],\n",
       "       [0.19035909]])"
      ]
     },
     "execution_count": 47,
     "metadata": {},
     "output_type": "execute_result"
    }
   ],
   "source": [
    "from sklearn.preprocessing import MaxAbsScaler\n",
    "arrays=np.array(data['AMT_ANNUITY'].values)\n",
    "transformer = MaxAbsScaler().fit(np.reshape(arrays,(-1,1)))\n",
    "transformer.transform(np.reshape(arrays,(-1,1)))"
   ]
  },
  {
   "cell_type": "markdown",
   "metadata": {},
   "source": [
    "3. 將 AMT_GOOD_PRICE 的 NAs 以眾數填補"
   ]
  },
  {
   "cell_type": "code",
   "execution_count": 48,
   "metadata": {},
   "outputs": [],
   "source": [
    "data['AMT_GOODS_PRICE'].fillna(data['AMT_GOODS_PRICE'].mode(),inplace=True)"
   ]
  },
  {
   "cell_type": "code",
   "execution_count": null,
   "metadata": {},
   "outputs": [],
   "source": []
  }
 ],
 "metadata": {
  "kernelspec": {
   "display_name": "Python 3",
   "language": "python",
   "name": "python3"
  },
  "language_info": {
   "codemirror_mode": {
    "name": "ipython",
    "version": 3
   },
   "file_extension": ".py",
   "mimetype": "text/x-python",
   "name": "python",
   "nbconvert_exporter": "python",
   "pygments_lexer": "ipython3",
   "version": "3.7.1"
  }
 },
 "nbformat": 4,
 "nbformat_minor": 2
}
